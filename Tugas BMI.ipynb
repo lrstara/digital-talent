{
 "cells": [
  {
   "cell_type": "markdown",
   "metadata": {},
   "source": [
    "# KALKULATOR BMI"
   ]
  },
  {
   "cell_type": "code",
   "execution_count": 3,
   "metadata": {},
   "outputs": [
    {
     "name": "stdout",
     "output_type": "stream",
     "text": [
      "Selamat Datang! BMI atau Body Mass Index adalah salah satu ukuran untuk menghitung proporsionalitas berat badan dan \n",
      "tinggi badan. Kami dapat membantu dalam perhitungan BMI. Ikuti petunjuk berikut ini.\n"
     ]
    }
   ],
   "source": [
    "print(\"\"\"Selamat Datang! BMI atau Body Mass Index adalah salah satu ukuran untuk menghitung proporsionalitas berat badan dan \n",
    "tinggi badan. Kami dapat membantu dalam perhitungan BMI. Ikuti petunjuk berikut ini.\"\"\")"
   ]
  },
  {
   "cell_type": "code",
   "execution_count": 3,
   "metadata": {},
   "outputs": [
    {
     "name": "stdout",
     "output_type": "stream",
     "text": [
      "Masukkan Nama Anda : hari\n",
      "Masukkan Berat Badan Anda dalam kg: 50\n",
      "Masukkan Tinggi Badan Anda dalam cm: 164\n",
      "Halo, hari !\n",
      "Nilai BMI Anda, 18.590124925639504\n",
      "Dengan nilai tersebut, Anda termasuk Kategori Normal\n"
     ]
    }
   ],
   "source": [
    "nama = str(input('Masukkan Nama Anda : '))\n",
    "bb = float(input('Masukkan Berat Badan Anda dalam kg: '))\n",
    "tb = float(input('Masukkan Tinggi Badan Anda dalam cm: '))\n",
    "bmi = bb/(tb/100)**2\n",
    "\n",
    "if bmi < 15:\n",
    "    h = \"Kategori Very Severely Underweight\"\n",
    "elif 15 <= bmi < 16:\n",
    "    h = \"Kategori Severely Underweight\"\n",
    "elif 16 <= bmi < 18.5:\n",
    "    h = \"Kategori Underweight\"\n",
    "elif 18.5 <= bmi < 25:\n",
    "    h = \"Kategori Normal\"\n",
    "elif 25<= bmi < 30:\n",
    "    h = \"Kategori Overweight\"\n",
    "elif 30 <= bmi < 35:\n",
    "    h = \"Kategori Moderately Obese\"\n",
    "elif 35 <= bmi < 40:\n",
    "    h = \"Kategori Severely Obese\"\n",
    "else:\n",
    "    h = \"Kategori Very Severely Overweight\"\n",
    "\n",
    "print ('Halo,', nama, \"!\")\n",
    "print ('Nilai BMI Anda,', bmi)\n",
    "print ('Dengan nilai tersebut, Anda termasuk', h)"
   ]
  },
  {
   "cell_type": "code",
   "execution_count": null,
   "metadata": {},
   "outputs": [],
   "source": []
  }
 ],
 "metadata": {
  "kernelspec": {
   "display_name": "Python 3",
   "language": "python",
   "name": "python3"
  },
  "language_info": {
   "codemirror_mode": {
    "name": "ipython",
    "version": 3
   },
   "file_extension": ".py",
   "mimetype": "text/x-python",
   "name": "python",
   "nbconvert_exporter": "python",
   "pygments_lexer": "ipython3",
   "version": "3.7.0"
  }
 },
 "nbformat": 4,
 "nbformat_minor": 2
}
