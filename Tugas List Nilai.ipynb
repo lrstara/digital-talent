{
 "cells": [
  {
   "cell_type": "markdown",
   "metadata": {},
   "source": [
    "## List dan Dict\n",
    "### Diberikan sekumpulan Nilai Random antara 0 sampai dengan 100 sebanyak 250 nilai. Buatlah program untuk melakukan hal berikut:\n",
    "\n",
    "1. Tampilkan Angka Ganjil dari ke 250 nilai tersebut\n",
    "2. Tampilkan berapa banyak yang mendapatkan nilai lebih dari 70\n",
    "3. Tampilkan standar deviasi dari sekumpulan nilai tersebut\n",
    "4. Tampilkan nilai maksimum dan minimum\n",
    "5. Tampilkan modus dari sekumpulan nilai tersebut"
   ]
  },
  {
   "cell_type": "code",
   "execution_count": 2,
   "metadata": {},
   "outputs": [
    {
     "name": "stdout",
     "output_type": "stream",
     "text": [
      "[92, 30, 74, 59, 56, 53, 53, 20, 77, 44, 1, 44, 57, 37, 17, 92, 51, 3, 50, 72, 10, 94, 76, 69, 15, 90, 14, 31, 3, 15, 39, 47, 95, 10, 42, 97, 49, 42, 96, 80, 91, 56, 63, 25, 58, 43, 10, 65, 37, 84, 90, 78, 2, 38, 71, 31, 31, 59, 35, 76, 74, 20, 79, 29, 42, 75, 19, 60, 67, 86, 52, 9, 73, 42, 52, 34, 18, 27, 31, 91, 92, 39, 63, 94, 22, 66, 47, 34, 84, 8, 79, 47, 15, 70, 48, 90, 43, 52, 75, 77, 44, 21, 89, 14, 11, 57, 31, 28, 95, 67, 59, 64, 62, 94, 8, 91, 55, 91, 17, 93, 4, 48, 85, 80, 99, 60, 22, 42, 5, 28, 28, 36, 71, 3, 18, 21, 70, 39, 58, 85, 10, 1, 3, 72, 1, 29, 97, 48, 71, 16, 58, 83, 20, 78, 61, 11, 14, 12, 56, 24, 72, 52, 72, 45, 86, 64, 22, 58, 93, 42, 43, 74, 77, 21, 16, 81, 9, 31, 6, 72, 14, 30, 85, 61, 4, 27, 76, 2, 83, 66, 2, 4, 13, 16, 19, 62, 42, 65, 53, 59, 47, 24, 91, 51, 22, 53, 37, 86, 44, 75, 42, 46, 21, 88, 5, 34, 52, 21, 52, 92, 66, 71, 43, 91, 20, 38, 38, 10, 32, 39, 15, 85, 89, 44, 96, 82, 42, 37, 52, 68, 88, 58, 54, 99, 40, 97, 95, 11, 22, 94]\n"
     ]
    }
   ],
   "source": [
    "import random\n",
    "\n",
    "# GENERATE RANDOM\n",
    "nilaitugas = []\n",
    "for l in range(250):\n",
    "    nilaitugas.append(random.randrange(1,100,1))\n",
    "print(nilaitugas)"
   ]
  },
  {
   "cell_type": "code",
   "execution_count": 3,
   "metadata": {
    "collapsed": true
   },
   "outputs": [
    {
     "name": "stdout",
     "output_type": "stream",
     "text": [
      "250\n"
     ]
    }
   ],
   "source": [
    "print(len(nilaitugas))"
   ]
  },
  {
   "cell_type": "markdown",
   "metadata": {},
   "source": [
    "#### 1. Angka Ganjil"
   ]
  },
  {
   "cell_type": "code",
   "execution_count": 4,
   "metadata": {},
   "outputs": [
    {
     "name": "stdout",
     "output_type": "stream",
     "text": [
      "59\n",
      "53\n",
      "53\n",
      "77\n",
      "1\n",
      "57\n",
      "37\n",
      "17\n",
      "51\n",
      "3\n",
      "69\n",
      "15\n",
      "31\n",
      "3\n",
      "15\n",
      "39\n",
      "47\n",
      "95\n",
      "97\n",
      "49\n",
      "91\n",
      "63\n",
      "25\n",
      "43\n",
      "65\n",
      "37\n",
      "71\n",
      "31\n",
      "31\n",
      "59\n",
      "35\n",
      "79\n",
      "29\n",
      "75\n",
      "19\n",
      "67\n",
      "9\n",
      "73\n",
      "27\n",
      "31\n",
      "91\n",
      "39\n",
      "63\n",
      "47\n",
      "79\n",
      "47\n",
      "15\n",
      "43\n",
      "75\n",
      "77\n",
      "21\n",
      "89\n",
      "11\n",
      "57\n",
      "31\n",
      "95\n",
      "67\n",
      "59\n",
      "91\n",
      "55\n",
      "91\n",
      "17\n",
      "93\n",
      "85\n",
      "99\n",
      "5\n",
      "71\n",
      "3\n",
      "21\n",
      "39\n",
      "85\n",
      "1\n",
      "3\n",
      "1\n",
      "29\n",
      "97\n",
      "71\n",
      "83\n",
      "61\n",
      "11\n",
      "45\n",
      "93\n",
      "43\n",
      "77\n",
      "21\n",
      "81\n",
      "9\n",
      "31\n",
      "85\n",
      "61\n",
      "27\n",
      "83\n",
      "13\n",
      "19\n",
      "65\n",
      "53\n",
      "59\n",
      "47\n",
      "91\n",
      "51\n",
      "53\n",
      "37\n",
      "75\n",
      "21\n",
      "5\n",
      "21\n",
      "71\n",
      "43\n",
      "91\n",
      "39\n",
      "15\n",
      "85\n",
      "89\n",
      "37\n",
      "99\n",
      "97\n",
      "95\n",
      "11\n"
     ]
    }
   ],
   "source": [
    "# 1. Menampilkan Angka Ganjil dari ke 250 nilai tugas\n",
    "for o in nilaitugas:\n",
    "    if o % 2 == 1:\n",
    "        print(o)"
   ]
  },
  {
   "cell_type": "markdown",
   "metadata": {},
   "source": [
    "#### 2. Jumlah nilai lebih dari 70"
   ]
  },
  {
   "cell_type": "code",
   "execution_count": 5,
   "metadata": {
    "scrolled": false
   },
   "outputs": [
    {
     "name": "stdout",
     "output_type": "stream",
     "text": [
      "[92, 74, 77, 92, 72, 94, 76, 90, 95, 97, 96, 80, 91, 84, 90, 78, 71, 76, 74, 79, 75, 86, 73, 91, 92, 94, 84, 79, 90, 75, 77, 89, 95, 94, 91, 91, 93, 85, 80, 99, 71, 85, 72, 97, 71, 83, 78, 72, 72, 86, 93, 74, 77, 81, 72, 85, 76, 83, 91, 86, 75, 88, 92, 71, 91, 85, 89, 96, 82, 88, 99, 97, 95, 94]\n",
      "\n",
      "Yang mendapatkan nilai lebih dari 70 adalah sebanyak 74 orang\n"
     ]
    }
   ],
   "source": [
    "# 2. Menampilkan berapa banyak yang mendapatkan nilai lebih dari 70\n",
    "\n",
    "odd=[]\n",
    "for y in nilaitugas:\n",
    "    if y > 70:\n",
    "        odd.append(y)\n",
    "print(odd)\n",
    "print('')\n",
    "print('Yang mendapatkan nilai lebih dari 70 adalah sebanyak', len(odd), 'orang')"
   ]
  },
  {
   "cell_type": "code",
   "execution_count": 6,
   "metadata": {
    "collapsed": true
   },
   "outputs": [
    {
     "name": "stdout",
     "output_type": "stream",
     "text": [
      "250\n"
     ]
    }
   ],
   "source": [
    "print(len(nilaitugas))"
   ]
  },
  {
   "cell_type": "markdown",
   "metadata": {},
   "source": [
    "#### 3. Standar Deviasi"
   ]
  },
  {
   "cell_type": "code",
   "execution_count": 7,
   "metadata": {},
   "outputs": [
    {
     "name": "stdout",
     "output_type": "stream",
     "text": [
      "Standar deviasi dari nilai tersebut adalah 28.421356300780293\n"
     ]
    }
   ],
   "source": [
    "# 3. Menghitung standar deviasi dari sekumpulan nilai tersebut\n",
    "\n",
    "# menghitung x^2\n",
    "xp2 = 0\n",
    "for x1 in nilaitugas:\n",
    "    xp2 = xp2 + (x1**2)\n",
    "\n",
    "# menghitung (totalx) ^ 2\n",
    "tx = 0\n",
    "for x in nilaitugas:\n",
    "    tx = tx +(x)\n",
    "tx2 = tx**2\n",
    "print   \n",
    "\n",
    "# menghitung var dan stdev\n",
    "var = ((len(nilaitugas)*xp2)-(tx2))/((len(nilaitugas))*((len(nilaitugas))-1))\n",
    "stdev = var ** (1/2)\n",
    "print('Standar deviasi dari nilai tersebut adalah', stdev)"
   ]
  },
  {
   "cell_type": "markdown",
   "metadata": {},
   "source": [
    "#### 4. Nilai Maksimum dan Minimum"
   ]
  },
  {
   "cell_type": "code",
   "execution_count": 8,
   "metadata": {},
   "outputs": [
    {
     "name": "stdout",
     "output_type": "stream",
     "text": [
      "Nilai maksimum dari daftar tersebut adalah 99\n",
      "Nilai minimum dari daftar tersebut adalah 1\n"
     ]
    }
   ],
   "source": [
    "# 4. Menghitung nilai maksimum dan minimum\n",
    "\n",
    "max = nilaitugas[0]\n",
    "for r in nilaitugas:\n",
    "    if max < r:\n",
    "        max = r\n",
    "print('Nilai maksimum dari daftar tersebut adalah', max)\n",
    "\n",
    "min = nilaitugas[0]\n",
    "for r in nilaitugas:\n",
    "    if min > r:\n",
    "        min = r\n",
    "print('Nilai minimum dari daftar tersebut adalah', min)"
   ]
  },
  {
   "cell_type": "markdown",
   "metadata": {},
   "source": [
    "#### 5. Modus"
   ]
  },
  {
   "cell_type": "code",
   "execution_count": 14,
   "metadata": {},
   "outputs": [
    {
     "name": "stdout",
     "output_type": "stream",
     "text": [
      "\n",
      "nilai yang paling sering keluar adalah 42 dengan jumlah 9\n"
     ]
    }
   ],
   "source": [
    "# 5. Menghitung modus dari nilai \n",
    "\n",
    "#bikin dan isi dictionaries\n",
    "freq = {}\n",
    "for f in nilaitugas:\n",
    "    if f in freq:\n",
    "        freq[f] = freq[f] + 1\n",
    "    else: \n",
    "        freq[f] = 1\n",
    "print(\"\")\n",
    "\n",
    "#nyari nilai modus dgn cari paling tinggi value nya\n",
    "maks=0\n",
    "nilmod = 0\n",
    "for f in freq:\n",
    "    if freq[f] > maks:\n",
    "        maks=freq[f]\n",
    "        nilmod = f\n",
    "        \n",
    "print('nilai yang paling sering keluar adalah', nilmod, 'dengan jumlah', maks)\n"
   ]
  }
 ],
 "metadata": {
  "kernelspec": {
   "display_name": "Python 3",
   "language": "python",
   "name": "python3"
  },
  "language_info": {
   "codemirror_mode": {
    "name": "ipython",
    "version": 3
   },
   "file_extension": ".py",
   "mimetype": "text/x-python",
   "name": "python",
   "nbconvert_exporter": "python",
   "pygments_lexer": "ipython3",
   "version": "3.7.0"
  }
 },
 "nbformat": 4,
 "nbformat_minor": 2
}
