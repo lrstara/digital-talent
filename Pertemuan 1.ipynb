{
 "cells": [
  {
   "cell_type": "markdown",
   "metadata": {},
   "source": [
    "# 1. Sintaks dasar\n",
    "\n",
    "Coba coba aja dulu"
   ]
  },
  {
   "cell_type": "code",
   "execution_count": 1,
   "metadata": {},
   "outputs": [
    {
     "name": "stdout",
     "output_type": "stream",
     "text": [
      "hello World\n"
     ]
    }
   ],
   "source": [
    "print(\"hello World\")"
   ]
  },
  {
   "cell_type": "code",
   "execution_count": 2,
   "metadata": {},
   "outputs": [
    {
     "name": "stdout",
     "output_type": "stream",
     "text": [
      "20\n",
      "625\n"
     ]
    }
   ],
   "source": [
    "a = 5\n",
    "b = 4\n",
    "print (a*b)\n",
    "print (a**b)"
   ]
  },
  {
   "cell_type": "markdown",
   "metadata": {},
   "source": [
    "### Variabel nilainya diganti sengene embe bisa kok, coba coba jadi gajadi deh"
   ]
  },
  {
   "cell_type": "code",
   "execution_count": 4,
   "metadata": {},
   "outputs": [
    {
     "name": "stdout",
     "output_type": "stream",
     "text": [
      "gajadi deh\n"
     ]
    }
   ],
   "source": [
    "nama = \"coba coba\"\n",
    "nama = \"coba coba 2\"\n",
    "nama = \"gajadi deh\"\n",
    "print(nama)"
   ]
  },
  {
   "cell_type": "markdown",
   "metadata": {},
   "source": [
    "### Deklarasi variabel langsung jadi satu"
   ]
  },
  {
   "cell_type": "code",
   "execution_count": 51,
   "metadata": {},
   "outputs": [
    {
     "name": "stdout",
     "output_type": "stream",
     "text": [
      "7\n",
      "4.36\n",
      "Yap\n"
     ]
    }
   ],
   "source": [
    "a, b, c = 7, 4.36, \"Yap\"\n",
    "print (a)\n",
    "print (b)\n",
    "print (c)"
   ]
  },
  {
   "cell_type": "code",
   "execution_count": 8,
   "metadata": {},
   "outputs": [
    {
     "name": "stdout",
     "output_type": "stream",
     "text": [
      "samibae\n",
      "samibae\n",
      "samibae\n"
     ]
    }
   ],
   "source": [
    "x = y = z =\"samibae\"\n",
    "print (x)\n",
    "print (y)\n",
    "print (z)"
   ]
  },
  {
   "cell_type": "markdown",
   "metadata": {},
   "source": [
    "## Merujuk pada jenis data"
   ]
  },
  {
   "cell_type": "code",
   "execution_count": 9,
   "metadata": {},
   "outputs": [
    {
     "name": "stdout",
     "output_type": "stream",
     "text": [
      "13 menurut p adalah <class 'int'>\n",
      "3.75 menurut p adalah <class 'float'>\n"
     ]
    }
   ],
   "source": [
    "a = 13\n",
    "print(a,'menurut p adalah', type(a))\n",
    "\n",
    "a = 3.75\n",
    "print(a, 'menurut p adalah', type(a))"
   ]
  },
  {
   "cell_type": "code",
   "execution_count": 10,
   "metadata": {},
   "outputs": [
    {
     "name": "stdout",
     "output_type": "stream",
     "text": [
      "False menurut p adalah <class 'bool'>\n",
      "True menurut p adalah <class 'bool'>\n"
     ]
    }
   ],
   "source": [
    "a = 5>6\n",
    "print(a, 'menurut p adalah', type (a))\n",
    "\n",
    "a = 7>2\n",
    "print(a, 'menurut p adalah', type (a))"
   ]
  },
  {
   "cell_type": "code",
   "execution_count": 11,
   "metadata": {},
   "outputs": [
    {
     "name": "stdout",
     "output_type": "stream",
     "text": [
      "si ini menurut p adalah <class 'str'>\n"
     ]
    }
   ],
   "source": [
    "a = 'si ini'\n",
    "print(a, 'menurut p adalah', type (a))"
   ]
  },
  {
   "cell_type": "markdown",
   "metadata": {},
   "source": [
    "### Operasi Matematikah"
   ]
  },
  {
   "cell_type": "code",
   "execution_count": 12,
   "metadata": {},
   "outputs": [
    {
     "name": "stdout",
     "output_type": "stream",
     "text": [
      "x+y= 17\n"
     ]
    }
   ],
   "source": [
    "x = 13\n",
    "y = 4\n",
    "\n",
    "print('x+y=', x+y)"
   ]
  },
  {
   "cell_type": "code",
   "execution_count": 16,
   "metadata": {},
   "outputs": [
    {
     "name": "stdout",
     "output_type": "stream",
     "text": [
      "11\n",
      "44\n",
      "6\n"
     ]
    }
   ],
   "source": [
    "a = 5\n",
    "b = 2\n",
    "a = a + 6\n",
    "print(a)\n",
    "a = a*4\n",
    "print(a)\n",
    "a = b + 4\n",
    "print(a)"
   ]
  },
  {
   "cell_type": "markdown",
   "metadata": {},
   "source": [
    "### Latihan Oi\n",
    "#### Kasus: Buku harpot harga 100.000, diskon 40%, Ongkir pertama 9000, ongkir selanjutnya 3000, jika mau beli 60 buku. Berapa total biayanya?\n",
    "1. Definisikan variabel\n",
    " - hargabuku\n",
    " - diskon\n",
    " - ongkir1\n",
    " - ongkir2\n",
    " - jumlah\n",
    " - total\n",
    "2. Algoritma\n",
    "\n",
    "*kalo mau print variabel harus pake kurung\n",
    "*case sensitive he"
   ]
  },
  {
   "cell_type": "code",
   "execution_count": 26,
   "metadata": {},
   "outputs": [
    {
     "name": "stdout",
     "output_type": "stream",
     "text": [
      "3786000.0\n"
     ]
    }
   ],
   "source": [
    "hargabuku = 100000\n",
    "diskon = 40/100\n",
    "ongkir1 = 9000\n",
    "ongkir2 = 3000\n",
    "jumlah = 60\n",
    "total = (hargabuku *(100/100-diskon)* jumlah + (ongkir1) + ongkir2*59 )\n",
    "print(total)"
   ]
  },
  {
   "cell_type": "markdown",
   "metadata": {},
   "source": [
    "### Operator Pembanding\n",
    "#### Nanti yang keluar tipe boolean"
   ]
  },
  {
   "cell_type": "markdown",
   "metadata": {},
   "source": [
    "### Operator Logika"
   ]
  },
  {
   "cell_type": "code",
   "execution_count": 28,
   "metadata": {},
   "outputs": [
    {
     "name": "stdout",
     "output_type": "stream",
     "text": [
      "x dan y itu False\n",
      "x dan y itu True\n",
      "not x itu False\n"
     ]
    }
   ],
   "source": [
    "x = 5 == 5\n",
    "y = 1>2\n",
    "print('x dan y itu', x and y)\n",
    "print('x dan y itu', x or y)\n",
    "print('not x itu', not x)"
   ]
  },
  {
   "cell_type": "markdown",
   "metadata": {},
   "source": [
    "### Conditional\n",
    "* Kalo habis if, harus di tab perintahnya setelahnya (indentasi penting)"
   ]
  },
  {
   "cell_type": "code",
   "execution_count": 39,
   "metadata": {},
   "outputs": [
    {
     "name": "stdout",
     "output_type": "stream",
     "text": [
      "Program Selesai\n"
     ]
    }
   ],
   "source": [
    "nilai = 90\n",
    "if nilai>90:\n",
    "    print('yes')\n",
    "    print('congrats')\n",
    "\n",
    "    \n",
    "print('Program Selesai')"
   ]
  },
  {
   "cell_type": "markdown",
   "metadata": {},
   "source": [
    "* Ini Conditional pake Else"
   ]
  },
  {
   "cell_type": "code",
   "execution_count": 42,
   "metadata": {},
   "outputs": [
    {
     "name": "stdout",
     "output_type": "stream",
     "text": [
      "Maaf anda belum beruntung\n",
      "Program Selesai\n"
     ]
    }
   ],
   "source": [
    "nilai = 90\n",
    "if nilai>90:\n",
    "    print('yes')\n",
    "    print('congrats')\n",
    "else:\n",
    "    print('Maaf anda belum beruntung')\n",
    "    \n",
    "print('Program Selesai')"
   ]
  },
  {
   "cell_type": "markdown",
   "metadata": {},
   "source": [
    "* Ini kalo ada beberapa kondisi"
   ]
  },
  {
   "cell_type": "code",
   "execution_count": 45,
   "metadata": {},
   "outputs": [
    {
     "name": "stdout",
     "output_type": "stream",
     "text": [
      "Kamu masuk ke daftar tunggu\n",
      "Program Selesai\n"
     ]
    }
   ],
   "source": [
    "nilai = 87\n",
    "if nilai>90:\n",
    "    print('yes')\n",
    "    print('congrats')\n",
    "elif nilai>75:\n",
    "    print('Kamu masuk ke daftar tunggu')\n",
    "else:\n",
    "    print('Maaf anda belum beruntung')\n",
    "    \n",
    "print('Program Selesai')"
   ]
  },
  {
   "cell_type": "markdown",
   "metadata": {},
   "source": [
    "* Banyak kriteria dan harus dipenuhi due duenyaaaa"
   ]
  },
  {
   "cell_type": "code",
   "execution_count": 50,
   "metadata": {},
   "outputs": [
    {
     "name": "stdout",
     "output_type": "stream",
     "text": [
      "maaf kemudaan\n",
      "Program Selesai\n"
     ]
    }
   ],
   "source": [
    "nilai = 100\n",
    "umur = 10\n",
    "\n",
    "if nilai>90:\n",
    "    if umur > 17:\n",
    "        print(\"wow congrats\")\n",
    "    else:\n",
    "        print('maaf kemudaan')\n",
    "else:\n",
    "    print('sorry belum beruntung gaes')\n",
    "    \n",
    "print('Program Selesai')"
   ]
  },
  {
   "cell_type": "code",
   "execution_count": null,
   "metadata": {},
   "outputs": [],
   "source": []
  }
 ],
 "metadata": {
  "kernelspec": {
   "display_name": "Python 3",
   "language": "python",
   "name": "python3"
  },
  "language_info": {
   "codemirror_mode": {
    "name": "ipython",
    "version": 3
   },
   "file_extension": ".py",
   "mimetype": "text/x-python",
   "name": "python",
   "nbconvert_exporter": "python",
   "pygments_lexer": "ipython3",
   "version": "3.7.0"
  }
 },
 "nbformat": 4,
 "nbformat_minor": 2
}
